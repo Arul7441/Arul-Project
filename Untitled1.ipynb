{
  "nbformat": 4,
  "nbformat_minor": 0,
  "metadata": {
    "colab": {
      "provenance": [],
      "authorship_tag": "ABX9TyODFT4doe9SQlWGAanLw8RF",
      "include_colab_link": true
    },
    "kernelspec": {
      "name": "python3",
      "display_name": "Python 3"
    },
    "language_info": {
      "name": "python"
    }
  },
  "cells": [
    {
      "cell_type": "markdown",
      "metadata": {
        "id": "view-in-github",
        "colab_type": "text"
      },
      "source": [
        "<a href=\"https://colab.research.google.com/github/Arul7441/Arul-Project/blob/main/Untitled1.ipynb\" target=\"_parent\"><img src=\"https://colab.research.google.com/assets/colab-badge.svg\" alt=\"Open In Colab\"/></a>"
      ]
    },
    {
      "cell_type": "code",
      "execution_count": null,
      "metadata": {
        "colab": {
          "base_uri": "https://localhost:8080/"
        },
        "id": "4bUxhLgY0Fwj",
        "outputId": "414f7ee7-1d29-4d91-f04e-bbd53d7369f8"
      },
      "outputs": [
        {
          "output_type": "stream",
          "name": "stdout",
          "text": [
            "\n",
            "1. Book Appointment\n",
            "2. Cancel Appointment\n",
            "3. View Appointments\n",
            "4. Exit\n",
            "Enter your choice: 1\n",
            "Enter your name: Arul Kumar\n",
            "Enter desired appointment time: 4.00\n",
            "Appointment booked for Arul Kumar at 4.00\n",
            "\n",
            "1. Book Appointment\n",
            "2. Cancel Appointment\n",
            "3. View Appointments\n",
            "4. Exit\n",
            "Enter your choice: 2\n",
            "Enter your name: Arul Kumar\n",
            "Enter appointment time to cancel: 2.00\n",
            "No such appointment found.\n",
            "\n",
            "1. Book Appointment\n",
            "2. Cancel Appointment\n",
            "3. View Appointments\n",
            "4. Exit\n",
            "Enter your choice: 3\n",
            "Scheduled Appointments:\n",
            "- Arul Kumar at 4.00\n",
            "\n",
            "1. Book Appointment\n",
            "2. Cancel Appointment\n",
            "3. View Appointments\n",
            "4. Exit\n",
            "Enter your choice: 1\n",
            "Enter your name: Selva\n",
            "Enter desired appointment time: 2.00\n",
            "Appointment booked for Selva at 2.00\n",
            "\n",
            "1. Book Appointment\n",
            "2. Cancel Appointment\n",
            "3. View Appointments\n",
            "4. Exit\n",
            "Enter your choice: 3\n",
            "Scheduled Appointments:\n",
            "- Arul Kumar at 4.00\n",
            "- Selva at 2.00\n",
            "\n",
            "1. Book Appointment\n",
            "2. Cancel Appointment\n",
            "3. View Appointments\n",
            "4. Exit\n"
          ]
        }
      ],
      "source": [
        "class Booking:\n",
        "    def __init__(self, name, time):\n",
        "        self.name = name\n",
        "        self.time = time\n",
        "\n",
        "class BookingSystem:\n",
        "    def __init__(self):\n",
        "        self.bookings = []\n",
        "\n",
        "    def book_appointment(self, name, time):\n",
        "        new_booking = Booking(name, time)\n",
        "        self.bookings.append(new_booking)\n",
        "        print(f\"Appointment booked for {name} at {time}\")\n",
        "\n",
        "    def cancel_appointment(self, name, time):\n",
        "        for booking in self.bookings:\n",
        "            if booking.name == name and booking.time == time:\n",
        "                self.bookings.remove(booking)\n",
        "                print(f\"Appointment for {name} at {time} canceled.\")\n",
        "                return\n",
        "        print(\"No such appointment found.\")\n",
        "\n",
        "    def display_appointments(self):\n",
        "        if not self.bookings:\n",
        "            print(\"No appointments scheduled.\")\n",
        "        else:\n",
        "            print(\"Scheduled Appointments:\")\n",
        "            for booking in self.bookings:\n",
        "                print(f\"- {booking.name} at {booking.time}\")\n",
        "\n",
        "def main():\n",
        "    booking_system = BookingSystem()\n",
        "\n",
        "    while True:\n",
        "        print(\"\\n1. Book Appointment\")\n",
        "        print(\"2. Cancel Appointment\")\n",
        "        print(\"3. View Appointments\")\n",
        "        print(\"4. Exit\")\n",
        "\n",
        "        choice = input(\"Enter your choice: \")\n",
        "\n",
        "        if choice == \"1\":\n",
        "            name = input(\"Enter your name: \")\n",
        "            time = input(\"Enter desired appointment time: \")\n",
        "            booking_system.book_appointment(name, time)\n",
        "        elif choice == \"2\":\n",
        "            name = input(\"Enter your name: \")\n",
        "            time = input(\"Enter appointment time to cancel: \")\n",
        "            booking_system.cancel_appointment(name, time)\n",
        "        elif choice == \"3\":\n",
        "            booking_system.display_appointments()\n",
        "        elif choice == \"4\":\n",
        "            print(\"Exiting...\")\n",
        "            break\n",
        "        else:\n",
        "            print(\"Invalid choice. Please try again.\")\n",
        "\n",
        "if __name__ == \"__main__\":\n",
        "    main()\n"
      ]
    },
    {
      "cell_type": "code",
      "source": [],
      "metadata": {
        "id": "zRSYvlDk0Hvp"
      },
      "execution_count": null,
      "outputs": []
    }
  ]
}